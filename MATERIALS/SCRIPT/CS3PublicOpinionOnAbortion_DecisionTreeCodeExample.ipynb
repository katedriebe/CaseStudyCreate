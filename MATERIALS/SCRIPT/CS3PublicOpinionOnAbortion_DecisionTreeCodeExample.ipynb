{
  "nbformat": 4,
  "nbformat_minor": 0,
  "metadata": {
    "colab": {
      "provenance": [],
      "authorship_tag": "ABX9TyMPfweK1r6J24MnOc1/ypQE",
      "include_colab_link": true
    },
    "kernelspec": {
      "name": "python3",
      "display_name": "Python 3"
    },
    "language_info": {
      "name": "python"
    }
  },
  "cells": [
    {
      "cell_type": "markdown",
      "metadata": {
        "id": "view-in-github",
        "colab_type": "text"
      },
      "source": [
        "<a href=\"https://colab.research.google.com/github/katedriebe/CaseStudyCreate/blob/main/CS3PublicOpinionOnAbortion_DecisionTreeCodeExample.ipynb\" target=\"_parent\"><img src=\"https://colab.research.google.com/assets/colab-badge.svg\" alt=\"Open In Colab\"/></a>"
      ]
    },
    {
      "cell_type": "code",
      "execution_count": null,
      "metadata": {
        "id": "f5ozp9CY4GxA"
      },
      "outputs": [],
      "source": [
        "#Predictive model libary\n",
        "from sklearn.metrics import accuracy_score\n",
        "from sklearn.model_selection import train_test_split\n",
        "from sklearn.preprocessing import OneHotEncoder\n",
        "from sklearn.tree import DecisionTreeClassifier, plot_tree\n",
        "import matplotlib.pyplot as plt"
      ]
    },
    {
      "cell_type": "code",
      "source": [
        "#Format data for Decision Tree for prochoic\n",
        "X = df[['partyid', 'year', 'age', 'income', 'polviews', 'relig', 'region', 'sex']]\n",
        "X_new_pc = df[['partyid', 'age', 'polviews', 'relig', 'sex']]\n",
        "y_pc = df['prochoic']\n",
        "\n",
        "# One-hot encode the categorical variables\n",
        "encoder = OneHotEncoder(sparse_output=False)\n",
        "X_encoded = encoder.fit_transform(X)\n",
        "X_new_encoded_pc = encoder.fit_transform(X_new_pc)\n",
        "\n",
        "# Split the data into training and testing\n",
        "# X_train, X_test, y_train, y_test = train_test_split(X_encoded, y, test_size=0.2, random_state=42)\n",
        "X_train_pc, X_test_pc, y_train_pc, y_test_pc = train_test_split(X_new_encoded_pc, y_pc, test_size=0.2, random_state=42)"
      ],
      "metadata": {
        "id": "9pbu3IUF4VyH"
      },
      "execution_count": null,
      "outputs": []
    },
    {
      "cell_type": "code",
      "source": [
        "#Finding the Best max_depth for the Decision Tree\n",
        "\n",
        "train_accuracies_pc = []\n",
        "test_accuracies_pc = []\n",
        "\n",
        "\n",
        "for depth in range(1, 21):\n",
        "    model_pc = DecisionTreeClassifier(max_depth=depth, random_state=42)\n",
        "    model_pc.fit(X_train_pc, y_train_pc)\n",
        "\n",
        "    train_accuracies_pc.append(accuracy_score(y_train_pc, model_pc.predict(X_train_pc)))\n",
        "    test_accuracies_pc.append(accuracy_score(y_test_pc, model_pc.predict(X_test_pc)))\n",
        "\n",
        "# Plot the training and testing accuracies\n",
        "plt.figure(figsize=(10, 5))\n",
        "plt.plot(range(1, 21), train_accuracies_pc, label='Training Accuracy')\n",
        "plt.plot(range(1, 21), test_accuracies_pc, label='Testing Accuracy')\n",
        "plt.xlabel('Depth of Tree')\n",
        "plt.ylabel('Accuracy')\n",
        "plt.legend()\n",
        "plt.title('Model Accuracy by Tree Depth')\n",
        "plt.xticks(range(1, 21))\n",
        "plt.grid(True)\n",
        "plt.show()\n",
        "\n",
        "# Determine the depth that yields the highest accuracy on the testing set\n",
        "best_depth_pc = test_accuracies_pc.index(max(test_accuracies_pc)) + 1\n",
        "print(f\"Highest accuracy max_depth: {best_depth_pc}\")"
      ],
      "metadata": {
        "id": "wbSeEQxa4gS9"
      },
      "execution_count": null,
      "outputs": []
    }
  ]
}
