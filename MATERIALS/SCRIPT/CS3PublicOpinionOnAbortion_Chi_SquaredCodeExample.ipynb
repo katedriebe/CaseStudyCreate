{
  "nbformat": 4,
  "nbformat_minor": 0,
  "metadata": {
    "colab": {
      "provenance": [],
      "authorship_tag": "ABX9TyOnbSQV7AGPcpR4tlQ5M9tr",
      "include_colab_link": true
    },
    "kernelspec": {
      "name": "python3",
      "display_name": "Python 3"
    },
    "language_info": {
      "name": "python"
    }
  },
  "cells": [
    {
      "cell_type": "markdown",
      "metadata": {
        "id": "view-in-github",
        "colab_type": "text"
      },
      "source": [
        "<a href=\"https://colab.research.google.com/github/katedriebe/CaseStudyCreate/blob/main/CS3PublicOpinionOnAbortion_Chi_SquaredCodeExample.ipynb\" target=\"_parent\"><img src=\"https://colab.research.google.com/assets/colab-badge.svg\" alt=\"Open In Colab\"/></a>"
      ]
    },
    {
      "cell_type": "code",
      "execution_count": null,
      "metadata": {
        "id": "UmCSH8T95VTF"
      },
      "outputs": [],
      "source": [
        "#Opinions by Political Views\n",
        "plt.figure(figsize=(12, 6))\n",
        "sns.countplot(x='polviews', hue='prochoic', data=df, order=['extremely liberal', 'liberal', 'slightly liberal', 'moderate, middle of the road', 'slightly conservative', 'conservative', 'extremely conservative'])\n",
        "plt.title('Pro-Choice Opinions by Political Views')\n",
        "plt.xticks(rotation=45)\n",
        "plt.legend(title='Pro-Choice', bbox_to_anchor=(1.05, 1), loc='upper left')\n",
        "plt.show()\n",
        "\n",
        "# Determine if relationship is satistically significant\n",
        "contingency_table = pd.crosstab(df['polviews'], df['prochoic'])\n",
        "chi2, p, dof, expected = stats.chi2_contingency(contingency_table)\n",
        "print(f\"Chi-squared test statistic: {chi2}\")\n",
        "print(f\"P-value: {p}\")"
      ]
    }
  ]
}
