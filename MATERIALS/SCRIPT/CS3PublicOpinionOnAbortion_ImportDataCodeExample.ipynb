{
  "nbformat": 4,
  "nbformat_minor": 0,
  "metadata": {
    "colab": {
      "provenance": [],
      "authorship_tag": "ABX9TyO4P/DewwquMnK3CzptNFro",
      "include_colab_link": true
    },
    "kernelspec": {
      "name": "python3",
      "display_name": "Python 3"
    },
    "language_info": {
      "name": "python"
    }
  },
  "cells": [
    {
      "cell_type": "markdown",
      "metadata": {
        "id": "view-in-github",
        "colab_type": "text"
      },
      "source": [
        "<a href=\"https://colab.research.google.com/github/katedriebe/CaseStudyCreate/blob/main/ImportData.ipynb\" target=\"_parent\"><img src=\"https://colab.research.google.com/assets/colab-badge.svg\" alt=\"Open In Colab\"/></a>"
      ]
    },
    {
      "cell_type": "code",
      "source": [
        "#Libraries\n",
        "import pandas as pd\n",
        "import numpy as np\n",
        "import matplotlib.pyplot as plt\n",
        "import seaborn as sns"
      ],
      "metadata": {
        "id": "RBV9VQpk3a3l"
      },
      "execution_count": null,
      "outputs": []
    },
    {
      "cell_type": "code",
      "execution_count": null,
      "metadata": {
        "id": "h8h1Cnrm3YU0"
      },
      "outputs": [],
      "source": [
        "# Import data\n",
        "var_list = ['prochoic', 'partyid', 'year', 'age', 'income', 'polviews', 'relig', 'region', 'abany', 'prolife', 'sex']\n",
        "\n",
        "\n",
        "output_file = 'gss_data_url.csv'\n",
        "modes = ['w', 'a']\n",
        "phase = 0\n",
        "\n",
        "\n",
        "for k in range(3):\n",
        "    url = f'https://github.com/DS3001/project_gss/raw/main/gss_chunk_{k+1}.parquet'\n",
        "    df = pd.read_parquet(url, columns=var_list)\n",
        "    header = True if phase == 0 else False\n",
        "    df.to_csv(output_file, mode=modes[phase], header=header, index=False)\n",
        "\n",
        "    phase = 1"
      ]
    }
  ]
}
